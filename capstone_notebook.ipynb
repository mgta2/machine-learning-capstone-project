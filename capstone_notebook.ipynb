{
 "cells": [
  {
   "cell_type": "markdown",
   "id": "690604b0-deec-43bb-ab02-fa533b603817",
   "metadata": {},
   "source": [
    "# Data Science and Machine Learning Capstone Project Notebook"
   ]
  },
  {
   "cell_type": "code",
   "execution_count": 38,
   "id": "fe0020b3-de98-420a-ba48-a9abc8671c1a",
   "metadata": {},
   "outputs": [],
   "source": [
    "# Import Statements\n",
    "import numpy as np\n",
    "import pandas as pd\n",
    "\n",
    "from sklearn.linear_model import SGDRegressor\n",
    "from sklearn.preprocessing import MinMaxScaler\n",
    "\n",
    "from sklearn.model_selection import train_test_split\n",
    "from sklearn.model_selection import cross_val_score\n",
    "\n",
    "from sklearn.metrics import mean_squared_error\n",
    "from sklearn.metrics import explained_variance_score\n",
    "from sklearn.metrics import accuracy_score"
   ]
  },
  {
   "cell_type": "code",
   "execution_count": 2,
   "id": "b2db8440-2952-4384-8062-12722149c4ae",
   "metadata": {},
   "outputs": [
    {
     "name": "stdout",
     "output_type": "stream",
     "text": [
      "# Attributes for both student-mat.csv (Math course) and student-por.csv (Portuguese language course) datasets:\n",
      "1 school - student's school (binary: \"GP\" - Gabriel Pereira or \"MS\" - Mousinho da Silveira)\n",
      "2 sex - student's sex (binary: \"F\" - female or \"M\" - male)\n",
      "3 age - student's age (numeric: from 15 to 22)\n",
      "4 address - student's home address type (binary: \"U\" - urban or \"R\" - rural)\n",
      "5 famsize - family size (binary: \"LE3\" - less or equal to 3 or \"GT3\" - greater than 3)\n",
      "6 Pstatus - parent's cohabitation status (binary: \"T\" - living together or \"A\" - apart)\n",
      "7 Medu - mother's education (numeric: 0 - none,  1 - primary education (4th grade), 2 â€“ 5th to 9th grade, 3 â€“ secondary education or 4 â€“ higher education)\n",
      "8 Fedu - father's education (numeric: 0 - none,  1 - primary education (4th grade), 2 â€“ 5th to 9th grade, 3 â€“ secondary education or 4 â€“ higher education)\n",
      "9 Mjob - mother's job (nominal: \"teacher\", \"health\" care related, civil \"services\" (e.g. administrative or police), \"at_home\" or \"other\")\n",
      "10 Fjob - father's job (nominal: \"teacher\", \"health\" care related, civil \"services\" (e.g. administrative or police), \"at_home\" or \"other\")\n",
      "11 reason - reason to choose this school (nominal: close to \"home\", school \"reputation\", \"course\" preference or \"other\")\n",
      "12 guardian - student's guardian (nominal: \"mother\", \"father\" or \"other\")\n",
      "13 traveltime - home to school travel time (numeric: 1 - <15 min., 2 - 15 to 30 min., 3 - 30 min. to 1 hour, or 4 - >1 hour)\n",
      "14 studytime - weekly study time (numeric: 1 - <2 hours, 2 - 2 to 5 hours, 3 - 5 to 10 hours, or 4 - >10 hours)\n",
      "15 failures - number of past class failures (numeric: n if 1<=n<3, else 4)\n",
      "16 schoolsup - extra educational support (binary: yes or no)\n",
      "17 famsup - family educational support (binary: yes or no)\n",
      "18 paid - extra paid classes within the course subject (Math or Portuguese) (binary: yes or no)\n",
      "19 activities - extra-curricular activities (binary: yes or no)\n",
      "20 nursery - attended nursery school (binary: yes or no)\n",
      "21 higher - wants to take higher education (binary: yes or no)\n",
      "22 internet - Internet access at home (binary: yes or no)\n",
      "23 romantic - with a romantic relationship (binary: yes or no)\n",
      "24 famrel - quality of family relationships (numeric: from 1 - very bad to 5 - excellent)\n",
      "25 freetime - free time after school (numeric: from 1 - very low to 5 - very high)\n",
      "26 goout - going out with friends (numeric: from 1 - very low to 5 - very high)\n",
      "27 Dalc - workday alcohol consumption (numeric: from 1 - very low to 5 - very high)\n",
      "28 Walc - weekend alcohol consumption (numeric: from 1 - very low to 5 - very high)\n",
      "29 health - current health status (numeric: from 1 - very bad to 5 - very good)\n",
      "30 absences - number of school absences (numeric: from 0 to 93)\n",
      "\n",
      "# these grades are related with the course subject, Math or Portuguese:\n",
      "31 G1 - first period grade (numeric: from 0 to 20)\n",
      "31 G2 - second period grade (numeric: from 0 to 20)\n",
      "32 G3 - final grade (numeric: from 0 to 20, output target)\n",
      "\n",
      "Additional note: there are several (382) students that belong to both datasets . \n",
      "These students can be identified by searching for identical attributes\n",
      "that characterize each student, as shown in the annexed R file.\n",
      "\n"
     ]
    }
   ],
   "source": [
    "# Data Description\n",
    "with open('student.txt') as f:\n",
    "    print(f.read())"
   ]
  },
  {
   "cell_type": "code",
   "execution_count": 3,
   "id": "697371ee-7852-45ad-a732-34793ad5a938",
   "metadata": {},
   "outputs": [],
   "source": [
    "data = pd.read_csv('student-por.csv', delimiter = ';')"
   ]
  },
  {
   "cell_type": "code",
   "execution_count": 4,
   "id": "893fd813-760f-45f9-b7b0-76cf06149b4b",
   "metadata": {},
   "outputs": [
    {
     "name": "stdout",
     "output_type": "stream",
     "text": [
      "<class 'pandas.core.frame.DataFrame'>\n",
      "RangeIndex: 649 entries, 0 to 648\n",
      "Data columns (total 33 columns):\n",
      " #   Column      Non-Null Count  Dtype \n",
      "---  ------      --------------  ----- \n",
      " 0   school      649 non-null    object\n",
      " 1   sex         649 non-null    object\n",
      " 2   age         649 non-null    int64 \n",
      " 3   address     649 non-null    object\n",
      " 4   famsize     649 non-null    object\n",
      " 5   Pstatus     649 non-null    object\n",
      " 6   Medu        649 non-null    int64 \n",
      " 7   Fedu        649 non-null    int64 \n",
      " 8   Mjob        649 non-null    object\n",
      " 9   Fjob        649 non-null    object\n",
      " 10  reason      649 non-null    object\n",
      " 11  guardian    649 non-null    object\n",
      " 12  traveltime  649 non-null    int64 \n",
      " 13  studytime   649 non-null    int64 \n",
      " 14  failures    649 non-null    int64 \n",
      " 15  schoolsup   649 non-null    object\n",
      " 16  famsup      649 non-null    object\n",
      " 17  paid        649 non-null    object\n",
      " 18  activities  649 non-null    object\n",
      " 19  nursery     649 non-null    object\n",
      " 20  higher      649 non-null    object\n",
      " 21  internet    649 non-null    object\n",
      " 22  romantic    649 non-null    object\n",
      " 23  famrel      649 non-null    int64 \n",
      " 24  freetime    649 non-null    int64 \n",
      " 25  goout       649 non-null    int64 \n",
      " 26  Dalc        649 non-null    int64 \n",
      " 27  Walc        649 non-null    int64 \n",
      " 28  health      649 non-null    int64 \n",
      " 29  absences    649 non-null    int64 \n",
      " 30  G1          649 non-null    int64 \n",
      " 31  G2          649 non-null    int64 \n",
      " 32  G3          649 non-null    int64 \n",
      "dtypes: int64(16), object(17)\n",
      "memory usage: 167.4+ KB\n"
     ]
    }
   ],
   "source": [
    "data.info()"
   ]
  },
  {
   "cell_type": "markdown",
   "id": "7d635509-7a6f-49b2-8547-610952d76f93",
   "metadata": {},
   "source": [
    "## 1. Data Cleaning/Preprocessing\n",
    "\n",
    "(a) Drop the 'school' column as I want to find general trends of student performance across different schools.\n",
    "\n",
    "(b) Drop 'Mjob', 'Fjob', 'reason' and 'guardian' as they would add many dimensions if encoded.\n",
    "\n",
    "(c) Drop 'G1' and 'G2' as predicting them is not this project's aim.\n",
    "\n",
    "(d) Convert the remaining binary objects to 0s and 1s.\n",
    "\n",
    "(e) Save the target variable, G3, before dropping the column.\n",
    "\n",
    "(f) Split the data into train/test."
   ]
  },
  {
   "cell_type": "code",
   "execution_count": 5,
   "id": "019dca0a-1f4b-4527-a061-d4bb34e2a56e",
   "metadata": {},
   "outputs": [],
   "source": [
    "X = data.drop('school', axis=1)\n",
    "X = X.drop('Mjob', axis=1)\n",
    "X = X.drop('Fjob', axis=1)\n",
    "X = X.drop('reason', axis=1)\n",
    "X = X.drop('guardian', axis=1)\n",
    "X = X.drop('G1', axis=1)\n",
    "X = X.drop('G2', axis=1)"
   ]
  },
  {
   "cell_type": "code",
   "execution_count": 6,
   "id": "4d7e95bc-d9bb-464d-bc44-ac96656339d0",
   "metadata": {},
   "outputs": [],
   "source": [
    "X['sex'] = X['sex'].map({'M': 1, 'F': 0})\n",
    "X['address'] = X['address'].map({'U': 1, 'R': 0})\n",
    "X['famsize'] = X['famsize'].map({'LE3': 1, 'GT3': 0})\n",
    "X['Pstatus'] = X['Pstatus'].map({'T': 1, 'A': 0})\n",
    "\n",
    "encode_list = ['schoolsup', 'famsup', 'paid', 'activities', 'nursery', 'higher', 'internet', 'romantic']\n",
    "\n",
    "for string in encode_list:\n",
    "    X[string] = X[string].map({'yes': 1, 'no': 0})"
   ]
  },
  {
   "cell_type": "code",
   "execution_count": 7,
   "id": "ea398e2f-cefe-4533-ae18-76a4e1b52bcd",
   "metadata": {
    "tags": []
   },
   "outputs": [
    {
     "name": "stdout",
     "output_type": "stream",
     "text": [
      "<class 'pandas.core.frame.DataFrame'>\n",
      "RangeIndex: 649 entries, 0 to 648\n",
      "Data columns (total 26 columns):\n",
      " #   Column      Non-Null Count  Dtype\n",
      "---  ------      --------------  -----\n",
      " 0   sex         649 non-null    int64\n",
      " 1   age         649 non-null    int64\n",
      " 2   address     649 non-null    int64\n",
      " 3   famsize     649 non-null    int64\n",
      " 4   Pstatus     649 non-null    int64\n",
      " 5   Medu        649 non-null    int64\n",
      " 6   Fedu        649 non-null    int64\n",
      " 7   traveltime  649 non-null    int64\n",
      " 8   studytime   649 non-null    int64\n",
      " 9   failures    649 non-null    int64\n",
      " 10  schoolsup   649 non-null    int64\n",
      " 11  famsup      649 non-null    int64\n",
      " 12  paid        649 non-null    int64\n",
      " 13  activities  649 non-null    int64\n",
      " 14  nursery     649 non-null    int64\n",
      " 15  higher      649 non-null    int64\n",
      " 16  internet    649 non-null    int64\n",
      " 17  romantic    649 non-null    int64\n",
      " 18  famrel      649 non-null    int64\n",
      " 19  freetime    649 non-null    int64\n",
      " 20  goout       649 non-null    int64\n",
      " 21  Dalc        649 non-null    int64\n",
      " 22  Walc        649 non-null    int64\n",
      " 23  health      649 non-null    int64\n",
      " 24  absences    649 non-null    int64\n",
      " 25  G3          649 non-null    int64\n",
      "dtypes: int64(26)\n",
      "memory usage: 132.0 KB\n"
     ]
    }
   ],
   "source": [
    "X.info()"
   ]
  },
  {
   "cell_type": "code",
   "execution_count": 8,
   "id": "7fa06a41-61e3-40b1-9dcc-17e5f82f2a5c",
   "metadata": {},
   "outputs": [
    {
     "data": {
      "text/html": [
       "<div>\n",
       "<style scoped>\n",
       "    .dataframe tbody tr th:only-of-type {\n",
       "        vertical-align: middle;\n",
       "    }\n",
       "\n",
       "    .dataframe tbody tr th {\n",
       "        vertical-align: top;\n",
       "    }\n",
       "\n",
       "    .dataframe thead th {\n",
       "        text-align: right;\n",
       "    }\n",
       "</style>\n",
       "<table border=\"1\" class=\"dataframe\">\n",
       "  <thead>\n",
       "    <tr style=\"text-align: right;\">\n",
       "      <th></th>\n",
       "      <th>sex</th>\n",
       "      <th>age</th>\n",
       "      <th>address</th>\n",
       "      <th>famsize</th>\n",
       "      <th>Pstatus</th>\n",
       "      <th>Medu</th>\n",
       "      <th>Fedu</th>\n",
       "      <th>traveltime</th>\n",
       "      <th>studytime</th>\n",
       "      <th>failures</th>\n",
       "      <th>...</th>\n",
       "      <th>internet</th>\n",
       "      <th>romantic</th>\n",
       "      <th>famrel</th>\n",
       "      <th>freetime</th>\n",
       "      <th>goout</th>\n",
       "      <th>Dalc</th>\n",
       "      <th>Walc</th>\n",
       "      <th>health</th>\n",
       "      <th>absences</th>\n",
       "      <th>G3</th>\n",
       "    </tr>\n",
       "  </thead>\n",
       "  <tbody>\n",
       "    <tr>\n",
       "      <th>0</th>\n",
       "      <td>0</td>\n",
       "      <td>18</td>\n",
       "      <td>1</td>\n",
       "      <td>0</td>\n",
       "      <td>0</td>\n",
       "      <td>4</td>\n",
       "      <td>4</td>\n",
       "      <td>2</td>\n",
       "      <td>2</td>\n",
       "      <td>0</td>\n",
       "      <td>...</td>\n",
       "      <td>0</td>\n",
       "      <td>0</td>\n",
       "      <td>4</td>\n",
       "      <td>3</td>\n",
       "      <td>4</td>\n",
       "      <td>1</td>\n",
       "      <td>1</td>\n",
       "      <td>3</td>\n",
       "      <td>4</td>\n",
       "      <td>11</td>\n",
       "    </tr>\n",
       "    <tr>\n",
       "      <th>1</th>\n",
       "      <td>0</td>\n",
       "      <td>17</td>\n",
       "      <td>1</td>\n",
       "      <td>0</td>\n",
       "      <td>1</td>\n",
       "      <td>1</td>\n",
       "      <td>1</td>\n",
       "      <td>1</td>\n",
       "      <td>2</td>\n",
       "      <td>0</td>\n",
       "      <td>...</td>\n",
       "      <td>1</td>\n",
       "      <td>0</td>\n",
       "      <td>5</td>\n",
       "      <td>3</td>\n",
       "      <td>3</td>\n",
       "      <td>1</td>\n",
       "      <td>1</td>\n",
       "      <td>3</td>\n",
       "      <td>2</td>\n",
       "      <td>11</td>\n",
       "    </tr>\n",
       "    <tr>\n",
       "      <th>2</th>\n",
       "      <td>0</td>\n",
       "      <td>15</td>\n",
       "      <td>1</td>\n",
       "      <td>1</td>\n",
       "      <td>1</td>\n",
       "      <td>1</td>\n",
       "      <td>1</td>\n",
       "      <td>1</td>\n",
       "      <td>2</td>\n",
       "      <td>0</td>\n",
       "      <td>...</td>\n",
       "      <td>1</td>\n",
       "      <td>0</td>\n",
       "      <td>4</td>\n",
       "      <td>3</td>\n",
       "      <td>2</td>\n",
       "      <td>2</td>\n",
       "      <td>3</td>\n",
       "      <td>3</td>\n",
       "      <td>6</td>\n",
       "      <td>12</td>\n",
       "    </tr>\n",
       "    <tr>\n",
       "      <th>3</th>\n",
       "      <td>0</td>\n",
       "      <td>15</td>\n",
       "      <td>1</td>\n",
       "      <td>0</td>\n",
       "      <td>1</td>\n",
       "      <td>4</td>\n",
       "      <td>2</td>\n",
       "      <td>1</td>\n",
       "      <td>3</td>\n",
       "      <td>0</td>\n",
       "      <td>...</td>\n",
       "      <td>1</td>\n",
       "      <td>1</td>\n",
       "      <td>3</td>\n",
       "      <td>2</td>\n",
       "      <td>2</td>\n",
       "      <td>1</td>\n",
       "      <td>1</td>\n",
       "      <td>5</td>\n",
       "      <td>0</td>\n",
       "      <td>14</td>\n",
       "    </tr>\n",
       "    <tr>\n",
       "      <th>4</th>\n",
       "      <td>0</td>\n",
       "      <td>16</td>\n",
       "      <td>1</td>\n",
       "      <td>0</td>\n",
       "      <td>1</td>\n",
       "      <td>3</td>\n",
       "      <td>3</td>\n",
       "      <td>1</td>\n",
       "      <td>2</td>\n",
       "      <td>0</td>\n",
       "      <td>...</td>\n",
       "      <td>0</td>\n",
       "      <td>0</td>\n",
       "      <td>4</td>\n",
       "      <td>3</td>\n",
       "      <td>2</td>\n",
       "      <td>1</td>\n",
       "      <td>2</td>\n",
       "      <td>5</td>\n",
       "      <td>0</td>\n",
       "      <td>13</td>\n",
       "    </tr>\n",
       "  </tbody>\n",
       "</table>\n",
       "<p>5 rows × 26 columns</p>\n",
       "</div>"
      ],
      "text/plain": [
       "   sex  age  address  famsize  Pstatus  Medu  Fedu  traveltime  studytime  \\\n",
       "0    0   18        1        0        0     4     4           2          2   \n",
       "1    0   17        1        0        1     1     1           1          2   \n",
       "2    0   15        1        1        1     1     1           1          2   \n",
       "3    0   15        1        0        1     4     2           1          3   \n",
       "4    0   16        1        0        1     3     3           1          2   \n",
       "\n",
       "   failures  ...  internet  romantic  famrel  freetime  goout  Dalc  Walc  \\\n",
       "0         0  ...         0         0       4         3      4     1     1   \n",
       "1         0  ...         1         0       5         3      3     1     1   \n",
       "2         0  ...         1         0       4         3      2     2     3   \n",
       "3         0  ...         1         1       3         2      2     1     1   \n",
       "4         0  ...         0         0       4         3      2     1     2   \n",
       "\n",
       "   health  absences  G3  \n",
       "0       3         4  11  \n",
       "1       3         2  11  \n",
       "2       3         6  12  \n",
       "3       5         0  14  \n",
       "4       5         0  13  \n",
       "\n",
       "[5 rows x 26 columns]"
      ]
     },
     "execution_count": 8,
     "metadata": {},
     "output_type": "execute_result"
    }
   ],
   "source": [
    "X.head()"
   ]
  },
  {
   "cell_type": "code",
   "execution_count": 9,
   "id": "1107fdea-da34-4bc3-919f-f773c660f3af",
   "metadata": {},
   "outputs": [],
   "source": [
    "y = X['G3']\n",
    "X = X.drop('G3', axis=1)"
   ]
  },
  {
   "cell_type": "code",
   "execution_count": 10,
   "id": "4af36f15-79ec-4a38-ab4a-9f40c92e21e2",
   "metadata": {},
   "outputs": [],
   "source": [
    "X_train, X_test, y_train, y_test = train_test_split(X, y, test_size = 0.3)"
   ]
  },
  {
   "cell_type": "markdown",
   "id": "ca19560a-eabc-4eea-b249-76f806dd3eab",
   "metadata": {},
   "source": [
    "## 2. Data Scaler\n",
    "\n",
    "I need to scale the data for the regression model to work properly. Otherwise, the 'absences' feature (ranging from 0 to 93) would contribute much more to the distance metric's calculation than the binary features (consisting of 0s and 1s). To prevent any infomation about the testing data from getting into the model, I will scale with respect to the training data only."
   ]
  },
  {
   "cell_type": "code",
   "execution_count": 11,
   "id": "01c0d8c6-7f35-4fae-a5f8-c75d82cb841b",
   "metadata": {},
   "outputs": [],
   "source": [
    "scaler = MinMaxScaler()"
   ]
  },
  {
   "cell_type": "code",
   "execution_count": 12,
   "id": "2cf914b0-fada-479a-8522-537d2d369b39",
   "metadata": {},
   "outputs": [],
   "source": [
    "X_train = scaler.fit_transform(X_train)"
   ]
  },
  {
   "cell_type": "code",
   "execution_count": 13,
   "id": "eb177aac-088a-47ff-bc1d-7f841906e6e3",
   "metadata": {},
   "outputs": [],
   "source": [
    "X_test = scaler.transform(X_test)"
   ]
  },
  {
   "cell_type": "markdown",
   "id": "0025f29c-9223-4fb7-9697-8cd70c8cc0e2",
   "metadata": {},
   "source": [
    "## 3. Benchmark Model\n",
    "\n",
    "My benchmark model is $5*$studytime. The data has been scaled, however. Therefore the code below multiplies by 20 instead."
   ]
  },
  {
   "cell_type": "code",
   "execution_count": 14,
   "id": "155379df-0ce7-4c40-a019-2cf2ac5f254a",
   "metadata": {},
   "outputs": [],
   "source": [
    "benchmark_train = 20*X_train[:,8]\n",
    "benchmark_test = 20*X_test[:,8]"
   ]
  },
  {
   "cell_type": "markdown",
   "id": "68d68093-ea55-454b-b0b9-a8a2ae72660b",
   "metadata": {},
   "source": [
    "## 4. Training the Model and Cross Validation"
   ]
  },
  {
   "cell_type": "code",
   "execution_count": 16,
   "id": "20bbb18c-9aa7-44eb-ae40-5716eb47f184",
   "metadata": {},
   "outputs": [],
   "source": [
    "sgd = SGDRegressor()"
   ]
  },
  {
   "cell_type": "code",
   "execution_count": 17,
   "id": "08efa048-a964-4600-926d-a5ee9db01e33",
   "metadata": {},
   "outputs": [
    {
     "data": {
      "text/plain": [
       "SGDRegressor()"
      ]
     },
     "execution_count": 17,
     "metadata": {},
     "output_type": "execute_result"
    }
   ],
   "source": [
    "sgd.fit(X_train, y_train)"
   ]
  },
  {
   "cell_type": "code",
   "execution_count": 19,
   "id": "d488d108-6728-4568-bc0b-ab743e22ff42",
   "metadata": {},
   "outputs": [
    {
     "data": {
      "text/plain": [
       "array([-12.76761167, -10.17988211,  -8.93914599,  -7.42315375,\n",
       "        -8.18402986])"
      ]
     },
     "execution_count": 19,
     "metadata": {},
     "output_type": "execute_result"
    }
   ],
   "source": [
    "cross_val_score(sgd, X_train, y_train, scoring='max_error', cv=5)"
   ]
  },
  {
   "cell_type": "code",
   "execution_count": 20,
   "id": "94e0d763-1386-43d3-90d9-02002fc894fb",
   "metadata": {},
   "outputs": [
    {
     "data": {
      "text/plain": [
       "array([0.13298086, 0.24435052, 0.29169696, 0.28185017, 0.2469609 ])"
      ]
     },
     "execution_count": 20,
     "metadata": {},
     "output_type": "execute_result"
    }
   ],
   "source": [
    "cross_val_score(sgd, X_train, y_train, scoring='explained_variance')"
   ]
  },
  {
   "cell_type": "markdown",
   "id": "dacc9979-3ade-4c6b-8f0b-846561aec61c",
   "metadata": {},
   "source": [
    "### Comment:\n",
    "\n",
    "The max_error and explained_variance scores are roughly the same across different folds of the cross validation. This suggests that the model is not overfitting and can be applied to the testing data without any need for changes to the hyper-parameters."
   ]
  },
  {
   "cell_type": "markdown",
   "id": "9b76e1a6-98f8-4526-898b-824f30059882",
   "metadata": {
    "tags": []
   },
   "source": [
    "## 5. Results\n",
    "\n",
    "The results are not very close. The model seems to place most students in the middle. So lots of students do very well but don't have high predictions, and lots of students do very badly but with mediocre predictions. This suggests that the model is just 'averaging' through. So, this model isn't very good at actually predicting the grade. This is expected - academic preformance is likely to be linked to intelligence (which isn't measured here). As explained in the Capstone Proposal. Many of these features are self-reported (e.g. number of hours studied per week). This self-reporting is going to be less reliable than facts (e.g. number of past class failures or number of absences).\n",
    "\n",
    "However, looking at the coefficients of this model does give insight into how the factors affect performance on average..."
   ]
  },
  {
   "cell_type": "code",
   "execution_count": 21,
   "id": "9a5a587d-5112-4cb7-8c68-1ad8bb414d88",
   "metadata": {},
   "outputs": [
    {
     "data": {
      "text/plain": [
       "8.646222017539957"
      ]
     },
     "execution_count": 21,
     "metadata": {},
     "output_type": "execute_result"
    }
   ],
   "source": [
    "mean_squared_error(y_test, sgd.predict(X_test))"
   ]
  },
  {
   "cell_type": "code",
   "execution_count": 22,
   "id": "57a8bb42-a4c6-4e48-bc98-73577d22eabf",
   "metadata": {},
   "outputs": [
    {
     "data": {
      "text/plain": [
       "7.2042718392733756"
      ]
     },
     "execution_count": 22,
     "metadata": {},
     "output_type": "execute_result"
    }
   ],
   "source": [
    "mean_squared_error(y_train, sgd.predict(X_train))"
   ]
  },
  {
   "cell_type": "code",
   "execution_count": 23,
   "id": "2fcef38a-0aa5-4e88-a5b7-dec243d3e5a8",
   "metadata": {},
   "outputs": [
    {
     "data": {
      "text/plain": [
       "65.37207977207977"
      ]
     },
     "execution_count": 23,
     "metadata": {},
     "output_type": "execute_result"
    }
   ],
   "source": [
    "mean_squared_error(y_test, benchmark_test)"
   ]
  },
  {
   "cell_type": "code",
   "execution_count": 24,
   "id": "50a321ba-1552-4ac3-8a20-3a7aabf399e4",
   "metadata": {},
   "outputs": [
    {
     "data": {
      "text/plain": [
       "64.19995105237396"
      ]
     },
     "execution_count": 24,
     "metadata": {},
     "output_type": "execute_result"
    }
   ],
   "source": [
    "mean_squared_error(y_train, benchmark_train)"
   ]
  },
  {
   "cell_type": "markdown",
   "id": "c2bf235a-8d74-43b6-81ed-ee3f4e0103a9",
   "metadata": {},
   "source": [
    "### Comment:\n",
    "\n",
    "The MSE of the test data is very similar to that of the train data. As expected, the model performs slightly better on the training set. There is a huge jump in MSE when going to the benchmark model's predictions. The benchmark model is also a linear function (5 x studytime) but performs much worse."
   ]
  },
  {
   "cell_type": "code",
   "execution_count": 25,
   "id": "a8eccda9-af6f-40fd-9e86-f49132d2c1fc",
   "metadata": {},
   "outputs": [
    {
     "data": {
      "text/plain": [
       "0.17047809704397532"
      ]
     },
     "execution_count": 25,
     "metadata": {},
     "output_type": "execute_result"
    }
   ],
   "source": [
    "explained_variance_score(y_test, sgd.predict(X_test))"
   ]
  },
  {
   "cell_type": "code",
   "execution_count": 26,
   "id": "dcfb63dd-e1ba-4d43-a4bb-345a818b3c77",
   "metadata": {},
   "outputs": [
    {
     "data": {
      "text/plain": [
       "0.30791767613103194"
      ]
     },
     "execution_count": 26,
     "metadata": {},
     "output_type": "execute_result"
    }
   ],
   "source": [
    "explained_variance_score(y_train, sgd.predict(X_train))"
   ]
  },
  {
   "cell_type": "markdown",
   "id": "65930adf-70ca-4127-8a52-0447fc5360a8",
   "metadata": {},
   "source": [
    "### Comment:\n",
    "\n",
    "An explained variance score of 1 would mean that the student's attributes would perfectly determine their end of year score. This is highly unlikely to be the case; some of the data is self-reported, student intelligence and other important factors are not taken into account, and there will always be variation with how different students deal with exam pressure.\n",
    "\n",
    "An explained variance score of 0 would mean that the given features have no influence on the student's grade. The above results suggest that the given data features do capture some infomation about student academic performance, but they are not enough to reasonably deploy this model for the purpose of predicting a student's grade between 0 and 20.\n",
    "\n",
    "However, the regression coefficients may still provide insight as to how different factors influence a student's score on average."
   ]
  },
  {
   "cell_type": "code",
   "execution_count": 29,
   "id": "221cfc55-ffa8-48c3-82f8-38edb72184be",
   "metadata": {},
   "outputs": [
    {
     "data": {
      "text/plain": [
       "array([-0.77669804,  0.97612399,  0.80947056,  0.57596717,  0.83471966,\n",
       "        1.30198808,  1.14229681,  0.66009566,  1.41685581, -2.65331857,\n",
       "       -0.66094773, -0.07927736, -0.59563171,  0.51609023, -0.01248447,\n",
       "        3.07344865,  0.55126891, -0.27435992,  1.796828  , -0.10299755,\n",
       "       -0.03726609, -1.22743639, -0.30775594, -0.18261804, -0.05906746])"
      ]
     },
     "execution_count": 29,
     "metadata": {},
     "output_type": "execute_result"
    }
   ],
   "source": [
    "sgd.coef_"
   ]
  },
  {
   "cell_type": "markdown",
   "id": "a342a13e-650a-4436-9039-33ee625548a8",
   "metadata": {},
   "source": [
    "***Negative Correlation***: sex (male), failures, schoolsup, famsup, paid, freetime, goout, Dalc, Walc, health, absences.\n",
    "\n",
    "Female students on average outperform their male counterparts in Portuguese language. Students perform worse if they spend more time going out, drink more alcohol, and are absent from school more often. These are all expected. There is also a negative correlation for students who receive extra educational support from their family, school and paid classes. This is likely because students who receive this extra support are more likely to already be behind their peers.\n",
    "\n",
    "Surprisingly, students who rated their health as better did worse on average. Perhaps this is because being in poor health means that the student is more likely to have extra time to study while their peers are more active. Alternatively, students who are feeling more exam pressure may rate their health poorly but perform well.\n",
    "\n",
    "By far the most important statistic (with -2.65) was the number of previous class failures. The only other coefficient lower than -1 was Dalc - alcohol consumption on weekdays. While weekend alcohol consumption also negatively correlated with academic success, the weekday indicator seems to be much more important.\n",
    "\n",
    "\n",
    "***Positive Correlation***: age, address (urban), famsize (LE3), Pstatus (together), Medu, Fedu, traveltime, studytime, activities, nursery, higher, internet, famrel.\n",
    "\n",
    "Desire to pursue higher education gave the largest coefficient (with 3.07). This exceeded 'studytime' which was 1.42. Of course, study time is self-reported while aiming for higher education is not ambiguous. Quality of familial relations gave a coefficient of 1.80, making is appear more important than time spent studying. The final two coefficients above 1 were 'Medu' and 'Fedu' - level of education of the student's mother and father. This result is unsurprising.\n",
    "\n",
    "Other unsurprising positive correlations include student age, whether their parents are still cohabiting, and whether or not the student attended nursery. Students living in urban environments did better, as did those with a home internet connection. Perhaps this is because these factors may indicate wealthier parents who are more likely to have a better education.\n",
    "\n",
    "Surprisingly, the data suggests that students with a longer travel time perform better, though the coefficient is rather small at 0.66. Students who attended extra-ciricular activities also performed slightly better with a coefficient of 0.52. Lastly, students with a family size of less than or equal to 3 had more academic success. This could be because each child gets more parental attention, or it could be an indicator of the family's social class."
   ]
  },
  {
   "cell_type": "code",
   "execution_count": 30,
   "id": "b31a75fd-e48c-4d34-8bd3-3f052ebe8296",
   "metadata": {},
   "outputs": [
    {
     "name": "stdout",
     "output_type": "stream",
     "text": [
      "<class 'pandas.core.frame.DataFrame'>\n",
      "RangeIndex: 649 entries, 0 to 648\n",
      "Data columns (total 25 columns):\n",
      " #   Column      Non-Null Count  Dtype\n",
      "---  ------      --------------  -----\n",
      " 0   sex         649 non-null    int64\n",
      " 1   age         649 non-null    int64\n",
      " 2   address     649 non-null    int64\n",
      " 3   famsize     649 non-null    int64\n",
      " 4   Pstatus     649 non-null    int64\n",
      " 5   Medu        649 non-null    int64\n",
      " 6   Fedu        649 non-null    int64\n",
      " 7   traveltime  649 non-null    int64\n",
      " 8   studytime   649 non-null    int64\n",
      " 9   failures    649 non-null    int64\n",
      " 10  schoolsup   649 non-null    int64\n",
      " 11  famsup      649 non-null    int64\n",
      " 12  paid        649 non-null    int64\n",
      " 13  activities  649 non-null    int64\n",
      " 14  nursery     649 non-null    int64\n",
      " 15  higher      649 non-null    int64\n",
      " 16  internet    649 non-null    int64\n",
      " 17  romantic    649 non-null    int64\n",
      " 18  famrel      649 non-null    int64\n",
      " 19  freetime    649 non-null    int64\n",
      " 20  goout       649 non-null    int64\n",
      " 21  Dalc        649 non-null    int64\n",
      " 22  Walc        649 non-null    int64\n",
      " 23  health      649 non-null    int64\n",
      " 24  absences    649 non-null    int64\n",
      "dtypes: int64(25)\n",
      "memory usage: 126.9 KB\n"
     ]
    }
   ],
   "source": [
    "X.info()"
   ]
  },
  {
   "cell_type": "markdown",
   "id": "a98eb9a0-2b5e-45d6-be01-cca49ce1e1df",
   "metadata": {},
   "source": [
    "### Final Task\n",
    "\n",
    "While the model coefficients have given insight into which factors affect student attainment, the results so far suggest that the model is not very good at giving actually predicting the student's score between 0 and 20. This is expected - making an accurate score prediction from the data given seems to be impossible. However, the model may fair better when it comes to simply categorising the students into pass/fail.\n",
    "\n",
    "For these purposes, I will assume that a score less than 10 is a fail, and see how accurate the model is here."
   ]
  },
  {
   "cell_type": "code",
   "execution_count": 33,
   "id": "adb8a58a-6b37-46f8-952c-945c3f9e7ce9",
   "metadata": {},
   "outputs": [],
   "source": [
    "train_predictions = sgd.predict(X_train)\n",
    "test_predictions = sgd.predict(X_test)"
   ]
  },
  {
   "cell_type": "code",
   "execution_count": 39,
   "id": "034f6f45-0a59-4350-b00d-69781a0a6887",
   "metadata": {},
   "outputs": [
    {
     "name": "stdout",
     "output_type": "stream",
     "text": [
      "Model predicts 405 passes on train data.\n",
      "Model predicts 179 passes on test data.\n"
     ]
    }
   ],
   "source": [
    "print(f\"Model predicts {sum(train_predictions>9)} passes on train data.\")\n",
    "print(f\"Model predicts {sum(test_predictions>9)} passes on test data.\")"
   ]
  },
  {
   "cell_type": "code",
   "execution_count": 40,
   "id": "8be98ed7-4a3b-4ce4-a922-894f0d804a38",
   "metadata": {},
   "outputs": [
    {
     "name": "stdout",
     "output_type": "stream",
     "text": [
      "There were 384 passes on the train data.\n",
      "There were 165 passes on the test data.\n"
     ]
    }
   ],
   "source": [
    "print(f\"There were {sum(y_train>9)} passes on the train data.\")\n",
    "print(f\"There were {sum(y_test>9)} passes on the test data.\")"
   ]
  },
  {
   "cell_type": "code",
   "execution_count": 41,
   "id": "b0b0b372-18fd-4a80-9fc3-f04623bab777",
   "metadata": {},
   "outputs": [
    {
     "name": "stdout",
     "output_type": "stream",
     "text": [
      "Accuracy on the training data was: 0.8480176211453745\n"
     ]
    }
   ],
   "source": [
    "train_accuracy = accuracy_score((y_train>9)*1, (train_predictions>9)*1)\n",
    "print(f\"Accuracy on the training data was: {train_accuracy}\")"
   ]
  },
  {
   "cell_type": "code",
   "execution_count": 42,
   "id": "dfe6f54f-4ef5-4c46-9b56-d876d34fbd78",
   "metadata": {},
   "outputs": [
    {
     "name": "stdout",
     "output_type": "stream",
     "text": [
      "Accuracy on the testing data was: 0.8358974358974359\n"
     ]
    }
   ],
   "source": [
    "test_accuracy = accuracy_score((y_test>9)*1, (test_predictions>9)*1)\n",
    "print(f\"Accuracy on the testing data was: {test_accuracy}\")"
   ]
  },
  {
   "cell_type": "markdown",
   "id": "e89407c9-0872-4087-b66e-ca11e88b52a0",
   "metadata": {},
   "source": [
    "### Comment:\n",
    "\n",
    "This is a very encouraging result. While the model isn't very good at predicting the student's G3 score, it can predict with 84% accuracy whether or not the student will pass/fail, based purely on the data given in school reports and questionnaries. This could make it very easy for teachers to identify 'at risk' students and provide extra academic help as required."
   ]
  }
 ],
 "metadata": {
  "kernelspec": {
   "display_name": "Python 3 (ipykernel)",
   "language": "python",
   "name": "python3"
  },
  "language_info": {
   "codemirror_mode": {
    "name": "ipython",
    "version": 3
   },
   "file_extension": ".py",
   "mimetype": "text/x-python",
   "name": "python",
   "nbconvert_exporter": "python",
   "pygments_lexer": "ipython3",
   "version": "3.9.9"
  }
 },
 "nbformat": 4,
 "nbformat_minor": 5
}
